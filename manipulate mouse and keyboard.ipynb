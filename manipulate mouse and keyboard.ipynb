{
 "cells": [
  {
   "cell_type": "code",
   "execution_count": 1,
   "metadata": {},
   "outputs": [],
   "source": [
    "import pyautogui as pg\n",
    "import time"
   ]
  },
  {
   "cell_type": "code",
   "execution_count": 38,
   "metadata": {},
   "outputs": [
    {
     "name": "stdout",
     "output_type": "stream",
     "text": [
      "x: 413y: 861, \b\b\b\b\b\b\b\b\b\b\b\b "
     ]
    }
   ],
   "source": [
    "try:\n",
    "    x,y=pg.position()\n",
    "    positionStr=\"x:\"+str(x).rjust(4)+\"y:\"+str(y).rjust(4)\n",
    "    print(positionStr,end=\", \")\n",
    "    print(\"\\b\"*len(positionStr),end=\" \", flush=True)\n",
    "except keyboardInterrupt:\n",
    "    print(\"\\n\")"
   ]
  },
  {
   "cell_type": "code",
   "execution_count": 34,
   "metadata": {},
   "outputs": [],
   "source": [
    "#pg.hotkey( 'alt' , 'tab' )"
   ]
  },
  {
   "cell_type": "code",
   "execution_count": 6,
   "metadata": {},
   "outputs": [],
   "source": [
    "pg.PAUSE = 3"
   ]
  },
  {
   "cell_type": "code",
   "execution_count": 7,
   "metadata": {},
   "outputs": [
    {
     "name": "stdout",
     "output_type": "stream",
     "text": [
      "1920 1080\n"
     ]
    }
   ],
   "source": [
    "width, height = pg.size() # 取得螢幕寬度、高度\n",
    "print(width, height)"
   ]
  },
  {
   "cell_type": "code",
   "execution_count": 8,
   "metadata": {},
   "outputs": [],
   "source": [
    "#滑鼠絕對位置\n",
    "x,y = 300,300\n",
    "for i in range(3):\n",
    "    pg.moveTo(x,y,duration=0.5)\n",
    "    pg.moveTo(x+1200,y,duration=0.5)\n",
    "    pg.moveTo(x+1200,y+400,duration=0.5)\n",
    "    pg.moveTo(x,y+400,duration=0.5)"
   ]
  },
  {
   "cell_type": "code",
   "execution_count": 12,
   "metadata": {},
   "outputs": [],
   "source": [
    "#滑鼠相對位置\n",
    "for i in range(1):\n",
    "    pg.moveRel(300,0,duration=0.5)\n",
    "    pg.moveRel(0,300,duration=0.5)\n",
    "    pg.moveRel(-300,0,duration=0.5)\n",
    "    pg.moveRel(0,-300,duration=0.5)"
   ]
  },
  {
   "cell_type": "code",
   "execution_count": 15,
   "metadata": {},
   "outputs": [],
   "source": [
    "#拖曳滑鼠\n",
    "pg.dragTo(300, 400, button='left', duration=0.1)\n",
    "\n",
    "#dragTo 拖\n",
    "#dragToRel 放"
   ]
  },
  {
   "cell_type": "code",
   "execution_count": 28,
   "metadata": {},
   "outputs": [
    {
     "name": "stdout",
     "output_type": "stream",
     "text": [
      "x:537 y:712\r"
     ]
    }
   ],
   "source": [
    "for i in range(5):\n",
    "    xloc, yloc = pg.position() # 獲得滑鼠游標\n",
    "    time.sleep(5) # 暫停一秒\n",
    "    print(\"x:\"+ str(xloc),\"y:\"+str(yloc), end='\\r', flush= True)"
   ]
  },
  {
   "cell_type": "code",
   "execution_count": null,
   "metadata": {},
   "outputs": [],
   "source": [
    "x: 539y: 782 \n",
    "x: 413y: 861 "
   ]
  },
  {
   "cell_type": "code",
   "execution_count": 53,
   "metadata": {},
   "outputs": [],
   "source": [
    "pg.moveTo(539,782,0.01)\n",
    "pg.mouseDown(539, 782, button='left',duration=0.01)\n",
    "pg.moveTo(413,782,0.01)\n",
    "pg.mouseUp(539, 782, button='left',duration=0.01)\n",
    "pg.hotkey( 'ctrl' , \"c\" )"
   ]
  },
  {
   "cell_type": "code",
   "execution_count": 30,
   "metadata": {},
   "outputs": [
    {
     "data": {
      "text/plain": [
       "'hi im jack'"
      ]
     },
     "execution_count": 30,
     "metadata": {},
     "output_type": "execute_result"
    }
   ],
   "source": [
    "a=\"hi im jack\" \n",
    "a"
   ]
  },
  {
   "cell_type": "code",
   "execution_count": null,
   "metadata": {},
   "outputs": [],
   "source": []
  }
 ],
 "metadata": {
  "kernelspec": {
   "display_name": "Python 3",
   "language": "python",
   "name": "python3"
  },
  "language_info": {
   "codemirror_mode": {
    "name": "ipython",
    "version": 3
   },
   "file_extension": ".py",
   "mimetype": "text/x-python",
   "name": "python",
   "nbconvert_exporter": "python",
   "pygments_lexer": "ipython3",
   "version": "3.7.4"
  }
 },
 "nbformat": 4,
 "nbformat_minor": 2
}
